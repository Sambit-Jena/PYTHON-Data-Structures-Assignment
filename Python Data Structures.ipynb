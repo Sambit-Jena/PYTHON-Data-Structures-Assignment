{
 "cells": [
  {
   "cell_type": "markdown",
   "id": "7cd203f6-fd8f-40d9-b461-c86bad1b4044",
   "metadata": {},
   "source": [
    "In Python, basically we can add comments to your code to provide explanations or notes that are ignored by the interpreter.\n",
    "\n",
    "We suppose to use two type of comments in python - \n",
    "*(single-line comments)\n",
    "*(multi-line comments)"
   ]
  },
  {
   "cell_type": "markdown",
   "id": "368b9ef8-209c-4a64-9df0-ad5108e60ce6",
   "metadata": {},
   "source": [
    "Single line comments - A Single-line comment is used to add comment on a single line. Anything after the hash symbol (#) on the same line is considered a comment. You can refer to the below Example,"
   ]
  },
  {
   "cell_type": "code",
   "execution_count": 1,
   "id": "366824ec-8963-4dd5-9068-0c291b19f1fd",
   "metadata": {},
   "outputs": [],
   "source": [
    "#Hello there, welcome to the PW Skills world."
   ]
  },
  {
   "cell_type": "markdown",
   "id": "4801a282-0971-4b09-8f70-613fcbcc4842",
   "metadata": {},
   "source": [
    "Multi line comments - Multi-line comments are used to add comments that span multiple lines. In python we can write multi line comments using multi-line strings or multiple single-line comments. Here are examples given bellow."
   ]
  },
  {
   "cell_type": "code",
   "execution_count": 3,
   "id": "fff0717a-f5ed-4eba-9130-683ac48e588e",
   "metadata": {},
   "outputs": [],
   "source": [
    "#My name is Sambit kumar Jena.\n",
    "#I am 22 Years old.\n",
    "#Currently I am a working professional at NIQ."
   ]
  },
  {
   "cell_type": "code",
   "execution_count": 4,
   "id": "e502a89b-8583-45ab-b764-0a9225ec4ed8",
   "metadata": {},
   "outputs": [
    {
     "data": {
      "text/plain": [
       "'\\nMy name is sambit kumar jena.\\nI am 22 years old.\\nCurrently I am a working professional at NIQ.\\n'"
      ]
     },
     "execution_count": 4,
     "metadata": {},
     "output_type": "execute_result"
    }
   ],
   "source": [
    "\"\"\"\n",
    "My name is sambit kumar jena.\n",
    "I am 22 years old.\n",
    "Currently I am a working professional at NIQ.\n",
    "\"\"\""
   ]
  },
  {
   "cell_type": "markdown",
   "id": "0d5b91b7-ec47-45a9-a923-8100dc4a8762",
   "metadata": {},
   "source": [
    "###Variables"
   ]
  },
  {
   "cell_type": "markdown",
   "id": "18b9f6f5-7cdd-4ebb-89e5-43a9622d4c90",
   "metadata": {},
   "source": [
    "In Python, variables are used to store data or values,which can be accessed  throughout the program,"
   ]
  },
  {
   "cell_type": "code",
   "execution_count": 3,
   "id": "afce318f-f10f-46c7-8061-ea52155f47ce",
   "metadata": {},
   "outputs": [],
   "source": [
    "#Declaration and Assignmentof name of variables\n",
    "age=22   #Here varialbe name is age and assign value is 22.\n",
    "name=\"Sambit Kumar Jena\"    #Here varialbe name is name and assign value is sambit kumar jena.\n",
    "Height=5.8 #Here varialbe name is Height and assign value is 5.8.\n",
    "married=False #Here varialbe name is married and assign value is False.\n",
    "\n",
    "## the variable's value can be int, float, string, Bool or complex no."
   ]
  },
  {
   "cell_type": "code",
   "execution_count": 4,
   "id": "00844923-0d86-4730-8407-170e32a5b7e4",
   "metadata": {},
   "outputs": [
    {
     "data": {
      "text/plain": [
       "22"
      ]
     },
     "execution_count": 4,
     "metadata": {},
     "output_type": "execute_result"
    }
   ],
   "source": [
    "age"
   ]
  },
  {
   "cell_type": "code",
   "execution_count": 5,
   "id": "a8797048-c1dc-4495-b5eb-3a66e6457c19",
   "metadata": {},
   "outputs": [
    {
     "data": {
      "text/plain": [
       "'Sambit Kumar Jena'"
      ]
     },
     "execution_count": 5,
     "metadata": {},
     "output_type": "execute_result"
    }
   ],
   "source": [
    "name"
   ]
  },
  {
   "cell_type": "code",
   "execution_count": 6,
   "id": "8951d58e-19b3-4654-8b3b-bc4ece5f24f6",
   "metadata": {},
   "outputs": [
    {
     "data": {
      "text/plain": [
       "5.8"
      ]
     },
     "execution_count": 6,
     "metadata": {},
     "output_type": "execute_result"
    }
   ],
   "source": [
    "Height"
   ]
  },
  {
   "cell_type": "code",
   "execution_count": 7,
   "id": "b4750292-152b-4db2-8c3f-52858f47d27b",
   "metadata": {},
   "outputs": [
    {
     "data": {
      "text/plain": [
       "False"
      ]
     },
     "execution_count": 7,
     "metadata": {},
     "output_type": "execute_result"
    }
   ],
   "source": [
    "married"
   ]
  },
  {
   "cell_type": "code",
   "execution_count": 9,
   "id": "bdf8fe2f-4de3-4b53-9855-dfffe255a8cd",
   "metadata": {},
   "outputs": [
    {
     "data": {
      "text/plain": [
       "int"
      ]
     },
     "execution_count": 9,
     "metadata": {},
     "output_type": "execute_result"
    }
   ],
   "source": [
    "# Conversion of datatype\n",
    "a=34\n",
    "type(a)"
   ]
  },
  {
   "cell_type": "code",
   "execution_count": 10,
   "id": "8ea8fd12-7072-4eab-b100-88ce8b4c7d7d",
   "metadata": {},
   "outputs": [],
   "source": [
    "b=str(a) #we just convert the int to string"
   ]
  },
  {
   "cell_type": "code",
   "execution_count": 11,
   "id": "8ab61489-fb7a-491d-bad0-eb68175ac51e",
   "metadata": {},
   "outputs": [
    {
     "data": {
      "text/plain": [
       "'34'"
      ]
     },
     "execution_count": 11,
     "metadata": {},
     "output_type": "execute_result"
    }
   ],
   "source": [
    "b"
   ]
  },
  {
   "cell_type": "code",
   "execution_count": 12,
   "id": "e20d4cd8-b9c8-4d10-912a-3d2c9e6ae9df",
   "metadata": {},
   "outputs": [
    {
     "data": {
      "text/plain": [
       "str"
      ]
     },
     "execution_count": 12,
     "metadata": {},
     "output_type": "execute_result"
    }
   ],
   "source": [
    "type(b)"
   ]
  },
  {
   "cell_type": "code",
   "execution_count": 13,
   "id": "44ca54d6-492a-4a72-93ee-6b0e2d77b15e",
   "metadata": {},
   "outputs": [],
   "source": [
    "c=float(b) #convert the string to float"
   ]
  },
  {
   "cell_type": "code",
   "execution_count": 14,
   "id": "e919b5e6-51b4-42c1-a7bc-73fccc068532",
   "metadata": {},
   "outputs": [
    {
     "data": {
      "text/plain": [
       "float"
      ]
     },
     "execution_count": 14,
     "metadata": {},
     "output_type": "execute_result"
    }
   ],
   "source": [
    "type(c)"
   ]
  },
  {
   "cell_type": "code",
   "execution_count": 15,
   "id": "11b58e28-ce43-4d76-b2bb-1760e25c1908",
   "metadata": {},
   "outputs": [
    {
     "data": {
      "text/plain": [
       "bool"
      ]
     },
     "execution_count": 15,
     "metadata": {},
     "output_type": "execute_result"
    }
   ],
   "source": [
    "d=True\n",
    "type(d)\n"
   ]
  },
  {
   "cell_type": "code",
   "execution_count": 16,
   "id": "6616d835-39d7-4245-aedf-6556ec81e1e2",
   "metadata": {},
   "outputs": [
    {
     "data": {
      "text/plain": [
       "str"
      ]
     },
     "execution_count": 16,
     "metadata": {},
     "output_type": "execute_result"
    }
   ],
   "source": [
    "e=str(d)#convert bool to string\n",
    "type(e)\n",
    "\n",
    "# convesion is possible in python but in some special cases we can't convert the datatype."
   ]
  },
  {
   "cell_type": "markdown",
   "id": "90ac06b1-a2a8-4fbe-8653-eceecc4a72d7",
   "metadata": {},
   "source": [
    " \n",
    " \n",
    " \n",
    " \n",
    " We can choose the Markdown option from the dropdown to  write and execute a Python script from the command line.\n",
    "    Here is the Example itself."
   ]
  },
  {
   "cell_type": "markdown",
   "id": "a7866557-c4cf-4744-a74a-7f3fe084f22d",
   "metadata": {},
   "source": [
    "We can increase the size by just putting #,## and ### before the comment,"
   ]
  },
  {
   "cell_type": "code",
   "execution_count": 19,
   "id": "9ad761dd-2d96-47b5-901a-33d042fc6103",
   "metadata": {},
   "outputs": [],
   "source": [
    " my_list = [1, 2, 3, 4, 5]\n"
   ]
  },
  {
   "cell_type": "code",
   "execution_count": 21,
   "id": "fdcd87a6-f93d-44eb-9972-38cf6c8a60a4",
   "metadata": {},
   "outputs": [
    {
     "data": {
      "text/plain": [
       "list"
      ]
     },
     "execution_count": 21,
     "metadata": {},
     "output_type": "execute_result"
    }
   ],
   "source": [
    "type(my_list)"
   ]
  },
  {
   "cell_type": "code",
   "execution_count": 25,
   "id": "96e18e83-2f23-4c46-ac7b-0c2aac3c3f0f",
   "metadata": {},
   "outputs": [],
   "source": [
    "sub_list=my_list[1:3]"
   ]
  },
  {
   "cell_type": "code",
   "execution_count": 26,
   "id": "d1c67473-15bd-4a5d-95a8-5045f0acab75",
   "metadata": {},
   "outputs": [
    {
     "data": {
      "text/plain": [
       "[2, 3]"
      ]
     },
     "execution_count": 26,
     "metadata": {},
     "output_type": "execute_result"
    }
   ],
   "source": [
    "sub_list"
   ]
  },
  {
   "cell_type": "markdown",
   "id": "017586e5-10b6-4a0f-8abf-bc9e090ec343",
   "metadata": {},
   "source": [
    "#complex number - \n",
    "Complex number is an elements of a number system that extends the real numbers along with a imaginary number, specifically\n",
    "the imaginary unit denoted as \"i\" and the complex number is written in the form of \"a+ib\" where \"a\" and  \"b\" are the real number and \"i\" is the\n",
    "imaginary number."
   ]
  },
  {
   "cell_type": "code",
   "execution_count": 28,
   "id": "d4e9c226-0623-494b-81d8-de1c6247ac89",
   "metadata": {},
   "outputs": [],
   "source": [
    "#example of complex number in python\n",
    "complex_number1=4j+77 #In python it contain \"j\" as imaginary unit instead of \"i\""
   ]
  },
  {
   "cell_type": "code",
   "execution_count": 29,
   "id": "c9dd6749-9438-4ab8-995a-423635b508d0",
   "metadata": {},
   "outputs": [
    {
     "data": {
      "text/plain": [
       "(77+4j)"
      ]
     },
     "execution_count": 29,
     "metadata": {},
     "output_type": "execute_result"
    }
   ],
   "source": [
    "complex_number1"
   ]
  },
  {
   "cell_type": "code",
   "execution_count": 31,
   "id": "a26cedfe-45fe-425c-b7fa-f3566cc1778d",
   "metadata": {},
   "outputs": [],
   "source": [
    "complex_number2=8-67j"
   ]
  },
  {
   "cell_type": "code",
   "execution_count": 32,
   "id": "38cdf3f2-5d72-4d68-98b0-9e433bd6e14c",
   "metadata": {},
   "outputs": [
    {
     "data": {
      "text/plain": [
       "(8-67j)"
      ]
     },
     "execution_count": 32,
     "metadata": {},
     "output_type": "execute_result"
    }
   ],
   "source": [
    "complex_number2"
   ]
  },
  {
   "cell_type": "code",
   "execution_count": 33,
   "id": "79a39c21-e100-4cab-b28c-f7304d6cc696",
   "metadata": {},
   "outputs": [
    {
     "data": {
      "text/plain": [
       "complex"
      ]
     },
     "execution_count": 33,
     "metadata": {},
     "output_type": "execute_result"
    }
   ],
   "source": [
    "type(complex_number2)"
   ]
  },
  {
   "cell_type": "code",
   "execution_count": 34,
   "id": "95648d3d-0915-40d7-94a2-48265bee6fa3",
   "metadata": {},
   "outputs": [],
   "source": [
    "#To declare a variable named age and assign the value 25 to it in Python, you can use the following syntax:\n",
    "age=25"
   ]
  },
  {
   "cell_type": "code",
   "execution_count": 35,
   "id": "9506004c-6760-4e12-aab2-19c811595240",
   "metadata": {},
   "outputs": [
    {
     "data": {
      "text/plain": [
       "25"
      ]
     },
     "execution_count": 35,
     "metadata": {},
     "output_type": "execute_result"
    }
   ],
   "source": [
    "age"
   ]
  },
  {
   "cell_type": "code",
   "execution_count": 36,
   "id": "589d859f-f2a8-43ca-8e28-8cb668858428",
   "metadata": {},
   "outputs": [
    {
     "data": {
      "text/plain": [
       "9.99"
      ]
     },
     "execution_count": 36,
     "metadata": {},
     "output_type": "execute_result"
    }
   ],
   "source": [
    "# Declare a variable named price and assign the value 9.99 to it\n",
    "price=9.99\n",
    "price"
   ]
  },
  {
   "cell_type": "code",
   "execution_count": 37,
   "id": "fcf31466-5d7e-4f2e-9355-956a2ae450a7",
   "metadata": {},
   "outputs": [
    {
     "data": {
      "text/plain": [
       "float"
      ]
     },
     "execution_count": 37,
     "metadata": {},
     "output_type": "execute_result"
    }
   ],
   "source": [
    "type(price)"
   ]
  },
  {
   "cell_type": "code",
   "execution_count": 38,
   "id": "b06e674e-65c9-4322-85df-f36175e3da7e",
   "metadata": {},
   "outputs": [
    {
     "data": {
      "text/plain": [
       "'Sambit Kumar Jena'"
      ]
     },
     "execution_count": 38,
     "metadata": {},
     "output_type": "execute_result"
    }
   ],
   "source": [
    "# Create a variable named name and assign your full name to it as a string.\n",
    "name=\"Sambit Kumar Jena\"\n",
    "name"
   ]
  },
  {
   "cell_type": "code",
   "execution_count": 39,
   "id": "25c2248a-e33e-4ee6-bd7b-1ce8d15c7689",
   "metadata": {},
   "outputs": [
    {
     "name": "stdout",
     "output_type": "stream",
     "text": [
      "Sambit Kumar Jena\n"
     ]
    }
   ],
   "source": [
    "print(name)"
   ]
  },
  {
   "cell_type": "code",
   "execution_count": 40,
   "id": "46af4012-426c-4436-aec3-0b18e1e50dbd",
   "metadata": {},
   "outputs": [
    {
     "data": {
      "text/plain": [
       "str"
      ]
     },
     "execution_count": 40,
     "metadata": {},
     "output_type": "execute_result"
    }
   ],
   "source": [
    "type(name)"
   ]
  },
  {
   "cell_type": "code",
   "execution_count": 41,
   "id": "076de05e-fc31-40bc-9446-f9921be06250",
   "metadata": {},
   "outputs": [
    {
     "data": {
      "text/plain": [
       "'Hello, world!'"
      ]
     },
     "execution_count": 41,
     "metadata": {},
     "output_type": "execute_result"
    }
   ],
   "source": [
    "#Given the string \"Hello, World!\", extract the substring \"World\"\n",
    "string=\"Hello, world!\"\n",
    "string"
   ]
  },
  {
   "cell_type": "code",
   "execution_count": 45,
   "id": "1fe68c9d-bb13-45d1-8d1a-1896c870cb7c",
   "metadata": {},
   "outputs": [],
   "source": [
    "Sub_string=string[7:-1]"
   ]
  },
  {
   "cell_type": "code",
   "execution_count": 46,
   "id": "3bf423b4-e2f6-4818-a8ac-4996e0cf5f38",
   "metadata": {},
   "outputs": [
    {
     "data": {
      "text/plain": [
       "'world'"
      ]
     },
     "execution_count": 46,
     "metadata": {},
     "output_type": "execute_result"
    }
   ],
   "source": [
    "Sub_string"
   ]
  },
  {
   "cell_type": "code",
   "execution_count": 1,
   "id": "48ac5b3a-6bb9-4677-9d1b-db553ee6c93a",
   "metadata": {},
   "outputs": [
    {
     "data": {
      "text/plain": [
       "True"
      ]
     },
     "execution_count": 1,
     "metadata": {},
     "output_type": "execute_result"
    }
   ],
   "source": [
    "# Create a variable named \"is_student\" and assign it a boolean value indicating whether you are currently a student or not.\n",
    "is_student=True\n",
    "is_student\n",
    "# we can modify the value to False if you are not currently a student."
   ]
  },
  {
   "cell_type": "code",
   "execution_count": 2,
   "id": "1db594c5-f597-4921-b9e1-23332c7a653a",
   "metadata": {},
   "outputs": [
    {
     "name": "stdout",
     "output_type": "stream",
     "text": [
      "I am currently a student\n"
     ]
    }
   ],
   "source": [
    "#Let's wright a program to execute the above result.\n",
    "\n",
    "if (is_student==True):\n",
    "    print(\"I am currently a student\")\n",
    "else:\n",
    "    print(\"I am currently not a student\")"
   ]
  },
  {
   "cell_type": "code",
   "execution_count": 3,
   "id": "0677888f-5551-4aa4-a534-5f59216c6302",
   "metadata": {},
   "outputs": [],
   "source": [
    "is_student=False"
   ]
  },
  {
   "cell_type": "code",
   "execution_count": 4,
   "id": "5bd51712-9d4b-431d-ad1f-7b5f3e321d8b",
   "metadata": {},
   "outputs": [
    {
     "name": "stdout",
     "output_type": "stream",
     "text": [
      "I am currently not a student\n"
     ]
    }
   ],
   "source": [
    "\n",
    "if (is_student==True):\n",
    "    print(\"I am currently a student\")\n",
    "else:\n",
    "    print(\"I am currently not a student\")"
   ]
  },
  {
   "cell_type": "code",
   "execution_count": null,
   "id": "9ccc8a7c-67f1-4577-978d-ab1a9f6979bd",
   "metadata": {},
   "outputs": [],
   "source": []
  }
 ],
 "metadata": {
  "kernelspec": {
   "display_name": "Python 3 (ipykernel)",
   "language": "python",
   "name": "python3"
  },
  "language_info": {
   "codemirror_mode": {
    "name": "ipython",
    "version": 3
   },
   "file_extension": ".py",
   "mimetype": "text/x-python",
   "name": "python",
   "nbconvert_exporter": "python",
   "pygments_lexer": "ipython3",
   "version": "3.10.8"
  }
 },
 "nbformat": 4,
 "nbformat_minor": 5
}
