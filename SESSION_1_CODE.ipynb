{
 "cells": [
  {
   "cell_type": "markdown",
   "id": "33ac74ee",
   "metadata": {},
   "source": [
    "# ABOUT PYTHON PROGRAMMING "
   ]
  },
  {
   "cell_type": "code",
   "execution_count": null,
   "id": "d831d59a",
   "metadata": {},
   "outputs": [],
   "source": [
    "# BEFORE WE START WITHTHE PYTHON PROGRAMMING, WE MUST KNOW WHERE WE CAN WRITE THE PYTHON SYNTAXES\n",
    "\n",
    "# WE CAN WRITE THE PYTHON PROGRAMMING USING IDE\n",
    "\n",
    "# IDE-- INTEGRATED DEVELOPEMNT ENVIRONMENT\n",
    "\n",
    "# WHAT ARE THE IDEs WE CAN USE FOR WRITING PYTHON PROGRAMMING\n",
    "\n",
    "# 1. JUPYTER NOTEBOOK\n",
    "# 2. PYSPYER\n",
    "# 3. PYCHARM"
   ]
  },
  {
   "cell_type": "code",
   "execution_count": null,
   "id": "bb1a6233",
   "metadata": {},
   "outputs": [],
   "source": [
    "# PYTHON PROGRAMMING CAN BE USED FOR\n",
    "\n",
    "# 1. WEBSITE DEVELOPEMENT\n",
    "# 2. SOFTWARE DEVELOPEMENT\n",
    "# 3. AUTOMATION\n",
    "# 4. DBMS AND PROGRAMMING\n",
    "# 5. DATA ANALYSIS\n",
    "# 6. DATA VISUALIZATION\n",
    "# 7. DATA SCIENCE"
   ]
  },
  {
   "cell_type": "code",
   "execution_count": null,
   "id": "71c585f8",
   "metadata": {},
   "outputs": [],
   "source": [
    "LIKE PYTHON WHO ARE THE OTHER PROGRAMMING LANGUAGE THAT ARE IMPORTANT FOR DATA SCIENCE\n",
    "\n",
    "# 1. R\n",
    "# 2. SAS\n",
    "# 3. STATA\n",
    "# 4. ORANGE\n",
    "# 5. SPSS"
   ]
  },
  {
   "cell_type": "markdown",
   "id": "2fe63876",
   "metadata": {},
   "source": [
    "# PYTHON PROGRAMMING IS VERY MUCH CASE SENSITIVE"
   ]
  },
  {
   "cell_type": "code",
   "execution_count": null,
   "id": "570934e1",
   "metadata": {},
   "outputs": [],
   "source": [
    "NAME='DEBENDRA D DAS'\n",
    "NAME"
   ]
  },
  {
   "cell_type": "code",
   "execution_count": null,
   "id": "ae42356a",
   "metadata": {},
   "outputs": [],
   "source": [
    "print(NAME)"
   ]
  },
  {
   "cell_type": "code",
   "execution_count": null,
   "id": "d2d79492",
   "metadata": {},
   "outputs": [],
   "source": [
    "name"
   ]
  },
  {
   "cell_type": "code",
   "execution_count": null,
   "id": "06a2b682",
   "metadata": {},
   "outputs": [],
   "source": [
    "Name"
   ]
  },
  {
   "cell_type": "code",
   "execution_count": null,
   "id": "d5497c1b",
   "metadata": {},
   "outputs": [],
   "source": [
    "NAME"
   ]
  },
  {
   "cell_type": "code",
   "execution_count": null,
   "id": "26a19db1",
   "metadata": {},
   "outputs": [],
   "source": [
    "# PYTHON PROGRAMMING BY VARIABLE NAME IS VERY MUCH CASE SENSITIVE"
   ]
  },
  {
   "cell_type": "code",
   "execution_count": null,
   "id": "e617f4c9",
   "metadata": {},
   "outputs": [],
   "source": [
    "PRINT(NAME)"
   ]
  },
  {
   "cell_type": "code",
   "execution_count": null,
   "id": "79127273",
   "metadata": {},
   "outputs": [],
   "source": [
    "print(NAME)"
   ]
  },
  {
   "cell_type": "code",
   "execution_count": null,
   "id": "8bd45cd1",
   "metadata": {},
   "outputs": [],
   "source": [
    "# PYTHON KEYWORD ARE ALSO CASE SENSITIVE"
   ]
  },
  {
   "cell_type": "markdown",
   "id": "d29dbb40",
   "metadata": {},
   "source": [
    "# HOW TO DEFINE VARIABLE, VALUES AND DATA TYPES"
   ]
  },
  {
   "cell_type": "code",
   "execution_count": null,
   "id": "44693c6a",
   "metadata": {},
   "outputs": [],
   "source": [
    "A=100\n",
    "B=200\n",
    "A"
   ]
  },
  {
   "cell_type": "code",
   "execution_count": null,
   "id": "b8fc0c9a",
   "metadata": {},
   "outputs": [],
   "source": [
    "B"
   ]
  },
  {
   "cell_type": "code",
   "execution_count": null,
   "id": "ff09cac5",
   "metadata": {},
   "outputs": [],
   "source": [
    "A\n",
    "B"
   ]
  },
  {
   "cell_type": "code",
   "execution_count": null,
   "id": "e0ec9168",
   "metadata": {},
   "outputs": [],
   "source": [
    "# WE CALL PYTHON PROGRAMMING IS BATCH PROGRAMMING"
   ]
  },
  {
   "cell_type": "code",
   "execution_count": null,
   "id": "3a73dddf",
   "metadata": {},
   "outputs": [],
   "source": [
    "print(A)"
   ]
  },
  {
   "cell_type": "code",
   "execution_count": null,
   "id": "1ad5de7e",
   "metadata": {},
   "outputs": [],
   "source": [
    "print(B)"
   ]
  },
  {
   "cell_type": "code",
   "execution_count": null,
   "id": "009888ff",
   "metadata": {},
   "outputs": [],
   "source": [
    "C=A+B\n",
    "print(C)"
   ]
  },
  {
   "cell_type": "code",
   "execution_count": null,
   "id": "8beb7ebe",
   "metadata": {},
   "outputs": [],
   "source": [
    "# ARITHMATIC EXPRESSION USING VARIABLE AND THE VALUES"
   ]
  },
  {
   "cell_type": "code",
   "execution_count": null,
   "id": "74515ac9",
   "metadata": {},
   "outputs": [],
   "source": [
    "# ADDITION\n",
    "A=100\n",
    "B=200\n",
    "C=A+B\n",
    "C"
   ]
  },
  {
   "cell_type": "code",
   "execution_count": null,
   "id": "6df1d40e",
   "metadata": {},
   "outputs": [],
   "source": [
    "# SUBTRANCTION\n",
    "A=100\n",
    "B=200\n",
    "C=A-B\n",
    "C"
   ]
  },
  {
   "cell_type": "code",
   "execution_count": null,
   "id": "b5f00ed5",
   "metadata": {},
   "outputs": [],
   "source": [
    "# MULTIPLICATION\n",
    "A=100\n",
    "B=200\n",
    "C=A*B\n",
    "C"
   ]
  },
  {
   "cell_type": "code",
   "execution_count": null,
   "id": "2327c7da",
   "metadata": {},
   "outputs": [],
   "source": [
    "# DIVISION\n",
    "A=100\n",
    "B=200\n",
    "C=A/B\n",
    "C"
   ]
  },
  {
   "cell_type": "code",
   "execution_count": null,
   "id": "7c7c2fce",
   "metadata": {},
   "outputs": [],
   "source": [
    "# POWER\n",
    "A=10\n",
    "B=2\n",
    "C=A**B\n",
    "C"
   ]
  },
  {
   "cell_type": "code",
   "execution_count": null,
   "id": "867724cc",
   "metadata": {},
   "outputs": [],
   "source": [
    "# REMAINDER\n",
    "A=13\n",
    "B=10\n",
    "C=A%B\n",
    "C"
   ]
  },
  {
   "cell_type": "code",
   "execution_count": null,
   "id": "ea6e01f9",
   "metadata": {},
   "outputs": [],
   "source": [
    "# QUOTIENT\n",
    "A=13\n",
    "B=10\n",
    "C=A//B\n",
    "C"
   ]
  },
  {
   "cell_type": "code",
   "execution_count": null,
   "id": "8a22a9af",
   "metadata": {},
   "outputs": [],
   "source": [
    "# STRING VALUES\n",
    "INSTITUTE_NAME='DV ANALYTICS'\n",
    "INSTITUTE_NAME"
   ]
  },
  {
   "cell_type": "code",
   "execution_count": null,
   "id": "a481be52",
   "metadata": {},
   "outputs": [],
   "source": [
    "print(INSTITUTE_NAME)"
   ]
  },
  {
   "cell_type": "markdown",
   "id": "7f4825fd",
   "metadata": {},
   "source": [
    "# VARIBLE DATA TYPES"
   ]
  },
  {
   "cell_type": "code",
   "execution_count": null,
   "id": "6ba95356",
   "metadata": {},
   "outputs": [],
   "source": [
    "A=100\n",
    "type(A)"
   ]
  },
  {
   "cell_type": "code",
   "execution_count": null,
   "id": "f0400844",
   "metadata": {},
   "outputs": [],
   "source": [
    "A=100.30\n",
    "type(A)"
   ]
  },
  {
   "cell_type": "code",
   "execution_count": null,
   "id": "f34e69aa",
   "metadata": {},
   "outputs": [],
   "source": [
    "A=100+300j\n",
    "type(A)"
   ]
  },
  {
   "cell_type": "code",
   "execution_count": null,
   "id": "24aa8841",
   "metadata": {},
   "outputs": [],
   "source": [
    "A=range(0,100)\n",
    "type(A)"
   ]
  },
  {
   "cell_type": "code",
   "execution_count": null,
   "id": "1b6bae31",
   "metadata": {},
   "outputs": [],
   "source": [
    "print(A)"
   ]
  },
  {
   "cell_type": "code",
   "execution_count": null,
   "id": "af4e9606",
   "metadata": {},
   "outputs": [],
   "source": [
    "INSTITUTE_NAME='DV ANALYTICS'\n",
    "type(INSTITUTE_NAME)"
   ]
  },
  {
   "cell_type": "code",
   "execution_count": null,
   "id": "415fb359",
   "metadata": {},
   "outputs": [],
   "source": [
    "# WE COVERED THE DATA TYPES\n",
    "# 1. INT\n",
    "# 2. FLOAT\n",
    "# 3. COMPLEX\n",
    "# 4. RANGE\n",
    "# 5. STRING"
   ]
  },
  {
   "cell_type": "markdown",
   "id": "8865da9b",
   "metadata": {},
   "source": [
    "# DEFINE VARIABLES BY TYPES LIKE LIST,TUPLE,SET AND DICTIONARY"
   ]
  },
  {
   "cell_type": "code",
   "execution_count": null,
   "id": "6c7f8df4",
   "metadata": {},
   "outputs": [],
   "source": [
    "# DEFINING THE LIST DATA TYPE\n",
    "STU_NAME=['RAVI','ARJUN','BISHNUPRIYA','AMZAD','ANWAR','DEV']\n",
    "STU_NAME"
   ]
  },
  {
   "cell_type": "code",
   "execution_count": null,
   "id": "503c3836",
   "metadata": {},
   "outputs": [],
   "source": [
    "print(STU_NAME)"
   ]
  },
  {
   "cell_type": "code",
   "execution_count": null,
   "id": "208251aa",
   "metadata": {},
   "outputs": [],
   "source": [
    "type(STU_NAME)"
   ]
  },
  {
   "cell_type": "code",
   "execution_count": null,
   "id": "47165b9d",
   "metadata": {},
   "outputs": [],
   "source": [
    "STU_AGE=[23,34,23,25,32,35]\n",
    "STU_AGE"
   ]
  },
  {
   "cell_type": "code",
   "execution_count": null,
   "id": "64e8c140",
   "metadata": {},
   "outputs": [],
   "source": [
    "type(STU_AGE)"
   ]
  },
  {
   "cell_type": "code",
   "execution_count": null,
   "id": "cb4186fc",
   "metadata": {},
   "outputs": [],
   "source": [
    "# DEFINING THE TUPLE DATA TYPE\n",
    "STU_NAME=('RAVI','ARJUN','BISHNUPRIYA','AMZAD','ANWAR','DEV')\n",
    "STU_NAME"
   ]
  },
  {
   "cell_type": "code",
   "execution_count": null,
   "id": "8a908c7a",
   "metadata": {},
   "outputs": [],
   "source": [
    "type(STU_NAME)"
   ]
  },
  {
   "cell_type": "code",
   "execution_count": null,
   "id": "d041713d",
   "metadata": {},
   "outputs": [],
   "source": [
    "STU_AGE=(23,34,23,25,32,35)\n",
    "STU_AGE"
   ]
  },
  {
   "cell_type": "code",
   "execution_count": null,
   "id": "0288c2ea",
   "metadata": {},
   "outputs": [],
   "source": [
    "type(STU_AGE)"
   ]
  },
  {
   "cell_type": "code",
   "execution_count": null,
   "id": "35465b5c",
   "metadata": {},
   "outputs": [],
   "source": [
    "# DEFINING THE SET DATA TYPE\n",
    "\n",
    "STU_NAME={'RAVI','ARJUN','BISHNUPRIYA','AMZAD','ANWAR','DEV'}\n",
    "STU_NAME"
   ]
  },
  {
   "cell_type": "code",
   "execution_count": null,
   "id": "926b7129",
   "metadata": {},
   "outputs": [],
   "source": [
    "type(STU_NAME)"
   ]
  },
  {
   "cell_type": "code",
   "execution_count": null,
   "id": "aba80078",
   "metadata": {},
   "outputs": [],
   "source": [
    "STU_AGE={23,34,23,25,32,35}\n",
    "STU_AGE"
   ]
  },
  {
   "cell_type": "code",
   "execution_count": null,
   "id": "91f1c331",
   "metadata": {},
   "outputs": [],
   "source": [
    "# DEFINING THE DICTIONARY DATA TYPE\n",
    "\n",
    "STU_NAME_EDUCATION={'RAVI':'MBA','ARJUN':'BTECH','BISHNUPRIYA':'BSC','AMZAD':'BE','ANWAR':'MTECH','DEV':'BA'}\n",
    "STU_NAME_EDUCATION"
   ]
  },
  {
   "cell_type": "code",
   "execution_count": null,
   "id": "4ce9a86e",
   "metadata": {},
   "outputs": [],
   "source": [
    "type(STU_NAME_EDUCATION)"
   ]
  },
  {
   "cell_type": "code",
   "execution_count": null,
   "id": "16a63216",
   "metadata": {},
   "outputs": [],
   "source": [
    "# HOW MANY DATA TYPES IN PYTHON PROGRAMMING, WE DISCUSSED\n",
    "\n",
    "# 1. INT\n",
    "# 2. FLOAT\n",
    "# 3. COMPLEX\n",
    "# 4. STRING\n",
    "# 5. RANGE\n",
    "# 6. LIST\n",
    "# 7. TUPLE\n",
    "# 8. SET\n",
    "# 9. DICTIONARY"
   ]
  },
  {
   "cell_type": "markdown",
   "id": "4bc50d04",
   "metadata": {},
   "source": [
    "# TEST"
   ]
  },
  {
   "cell_type": "code",
   "execution_count": null,
   "id": "94a19442",
   "metadata": {},
   "outputs": [],
   "source": [
    "# A=100 ---- INT\n",
    "# A=100.90 ----FLOAR\n",
    "# A=range(0,10)---RANGE\n",
    "# A=100+400i -----COMPLEX\n",
    "# A='DV ANALYTICS' --- STR\n",
    "# A=['DIL','DON','ABCD','KGF','SHOLAY'] ----- LIST\n",
    "# A=('DIL','DON','ABCD','KGF','SHOLAY') ----- TUPLE\n",
    "# A={'DIL','DON','ABCD','KGF','SHOLAY'} ---- SET\n",
    "# A={'DIL':'AMIR','DON':'AMITABH','ABCD':'VARUN','KGF':'YASH','SHOLAY':'DHARMENDRA'} -----DICTIONARY"
   ]
  },
  {
   "cell_type": "markdown",
   "id": "60048506",
   "metadata": {},
   "source": [
    "# CAN DATA TYPES LIKE LIST,TUPLE,SET AND DICTIONARY BE UPDATED , DELETED AND APPENDED?"
   ]
  },
  {
   "cell_type": "code",
   "execution_count": null,
   "id": "60dcb89d",
   "metadata": {},
   "outputs": [],
   "source": [
    "# BEFORE CHECKING THIS VALUES, WE MUST UNDERSTAND THE INDEXING VALUES"
   ]
  },
  {
   "cell_type": "code",
   "execution_count": null,
   "id": "91b50d3b",
   "metadata": {},
   "outputs": [],
   "source": [
    "NAME='ABCDEFGHI'\n",
    "NAME"
   ]
  },
  {
   "cell_type": "code",
   "execution_count": null,
   "id": "8e427f31",
   "metadata": {},
   "outputs": [],
   "source": [
    "NAME[0]"
   ]
  },
  {
   "cell_type": "code",
   "execution_count": null,
   "id": "c39c29eb",
   "metadata": {},
   "outputs": [],
   "source": [
    "NAME[1]"
   ]
  },
  {
   "cell_type": "code",
   "execution_count": null,
   "id": "85c98ea5",
   "metadata": {},
   "outputs": [],
   "source": [
    "NAME[2]"
   ]
  },
  {
   "cell_type": "code",
   "execution_count": null,
   "id": "f84acd6c",
   "metadata": {},
   "outputs": [],
   "source": [
    "NAME[8]"
   ]
  },
  {
   "cell_type": "code",
   "execution_count": null,
   "id": "a4cfc5fb",
   "metadata": {},
   "outputs": [],
   "source": [
    "NAME[12]"
   ]
  },
  {
   "cell_type": "code",
   "execution_count": null,
   "id": "5d09933f",
   "metadata": {},
   "outputs": [],
   "source": [
    "NAME[0:3]"
   ]
  },
  {
   "cell_type": "code",
   "execution_count": null,
   "id": "e057fbaa",
   "metadata": {},
   "outputs": [],
   "source": [
    "NAME[0:5]"
   ]
  },
  {
   "cell_type": "code",
   "execution_count": null,
   "id": "cde42e46",
   "metadata": {},
   "outputs": [],
   "source": [
    "NAME[0:0]"
   ]
  },
  {
   "cell_type": "code",
   "execution_count": null,
   "id": "45bfef36",
   "metadata": {},
   "outputs": [],
   "source": [
    "NAME[0:1]"
   ]
  },
  {
   "cell_type": "code",
   "execution_count": null,
   "id": "2a02a1f1",
   "metadata": {},
   "outputs": [],
   "source": [
    "NAME[1:1]"
   ]
  },
  {
   "cell_type": "code",
   "execution_count": null,
   "id": "278e0927",
   "metadata": {},
   "outputs": [],
   "source": [
    "NAME[1:3]"
   ]
  },
  {
   "cell_type": "code",
   "execution_count": null,
   "id": "9ba8f5e6",
   "metadata": {},
   "outputs": [],
   "source": [
    "NAME[-1]"
   ]
  },
  {
   "cell_type": "code",
   "execution_count": null,
   "id": "45216040",
   "metadata": {},
   "outputs": [],
   "source": [
    "NAME[-2]"
   ]
  },
  {
   "cell_type": "code",
   "execution_count": null,
   "id": "95743274",
   "metadata": {},
   "outputs": [],
   "source": [
    "NAME[0:-2]"
   ]
  },
  {
   "cell_type": "code",
   "execution_count": null,
   "id": "85d2d643",
   "metadata": {},
   "outputs": [],
   "source": [
    "NAME[-1:-1]"
   ]
  },
  {
   "cell_type": "code",
   "execution_count": null,
   "id": "2c42aeb3",
   "metadata": {},
   "outputs": [],
   "source": [
    "NAME[-1:-2]"
   ]
  },
  {
   "cell_type": "code",
   "execution_count": null,
   "id": "5f3de5c0",
   "metadata": {},
   "outputs": [],
   "source": [
    "NAME[-1:1]"
   ]
  },
  {
   "cell_type": "code",
   "execution_count": null,
   "id": "f1a0f839",
   "metadata": {},
   "outputs": [],
   "source": [
    "NAME[1:-1]"
   ]
  },
  {
   "cell_type": "code",
   "execution_count": null,
   "id": "7445a6aa",
   "metadata": {},
   "outputs": [],
   "source": [
    "NAME[0]"
   ]
  },
  {
   "cell_type": "code",
   "execution_count": null,
   "id": "73b167cf",
   "metadata": {},
   "outputs": [],
   "source": [
    "NAME[0:0]"
   ]
  },
  {
   "cell_type": "markdown",
   "id": "434d2cc0",
   "metadata": {},
   "source": [
    "# LIST TO BE UPDATED , DELETED AND APPENDED"
   ]
  },
  {
   "cell_type": "code",
   "execution_count": null,
   "id": "314fbb40",
   "metadata": {},
   "outputs": [],
   "source": [
    "STU_NAME=['RAVI','ARJUN','BISHNUPRIYA','AMZAD','ANWAR','DEV']"
   ]
  },
  {
   "cell_type": "code",
   "execution_count": null,
   "id": "5a555df0",
   "metadata": {},
   "outputs": [],
   "source": [
    "STU_NAME[0]"
   ]
  },
  {
   "cell_type": "code",
   "execution_count": null,
   "id": "0ed6460d",
   "metadata": {},
   "outputs": [],
   "source": [
    "STU_NAME[0:3]"
   ]
  },
  {
   "cell_type": "code",
   "execution_count": null,
   "id": "86bc5982",
   "metadata": {},
   "outputs": [],
   "source": [
    "STU_NAME[1]"
   ]
  },
  {
   "cell_type": "code",
   "execution_count": null,
   "id": "bd74b857",
   "metadata": {},
   "outputs": [],
   "source": [
    "# INDEX POSITION OF 1 BEEN REPLACED WITH TEH VALUE AS VIM\n",
    "STU_NAME[1]='VIM'"
   ]
  },
  {
   "cell_type": "code",
   "execution_count": null,
   "id": "a6dec34d",
   "metadata": {},
   "outputs": [],
   "source": [
    "STU_NAME"
   ]
  },
  {
   "cell_type": "code",
   "execution_count": null,
   "id": "0bc7aef1",
   "metadata": {},
   "outputs": [],
   "source": [
    "# MY LIST VALUE CAN BE UPDATED"
   ]
  },
  {
   "cell_type": "code",
   "execution_count": null,
   "id": "d310cc97",
   "metadata": {},
   "outputs": [],
   "source": [
    "STU_NAME[1]"
   ]
  },
  {
   "cell_type": "code",
   "execution_count": null,
   "id": "e7496b4a",
   "metadata": {},
   "outputs": [],
   "source": [
    "# DELETING THE INDEX VALUE AS 1\n",
    "del STU_NAME[1]"
   ]
  },
  {
   "cell_type": "code",
   "execution_count": null,
   "id": "9ebe547d",
   "metadata": {},
   "outputs": [],
   "source": [
    "STU_NAME"
   ]
  },
  {
   "cell_type": "code",
   "execution_count": null,
   "id": "29f2c565",
   "metadata": {},
   "outputs": [],
   "source": [
    "# LIST CAN BE DELETED"
   ]
  },
  {
   "cell_type": "code",
   "execution_count": null,
   "id": "194f9bee",
   "metadata": {},
   "outputs": [],
   "source": [
    "STU_NAME=['RAVI','ARJUN','BISHNUPRIYA','AMZAD','ANWAR','DEV']\n",
    "STU_EDUCATION=['MBA','BCA','BBA','MTECH','BPHARMA','BA']\n",
    "\n",
    "STU_FULL_DETAILS=STU_NAME+STU_EDUCATION\n",
    "\n",
    "STU_FULL_DETAILS"
   ]
  },
  {
   "cell_type": "code",
   "execution_count": null,
   "id": "67ddcaed",
   "metadata": {},
   "outputs": [],
   "source": [
    "# LIST VALUES CAN BE APPENDED"
   ]
  },
  {
   "cell_type": "markdown",
   "id": "8490187a",
   "metadata": {},
   "source": [
    "# TUPLE TO BE UPDATED , DELETED AND APPENDED"
   ]
  },
  {
   "cell_type": "code",
   "execution_count": null,
   "id": "34e365f3",
   "metadata": {},
   "outputs": [],
   "source": [
    "STU_NAME=('RAVI','ARJUN','BISHNUPRIYA','AMZAD','ANWAR','DEV')\n",
    "STU_NAME"
   ]
  },
  {
   "cell_type": "code",
   "execution_count": null,
   "id": "3866aec7",
   "metadata": {},
   "outputs": [],
   "source": [
    "STU_NAME[1]"
   ]
  },
  {
   "cell_type": "code",
   "execution_count": null,
   "id": "1b802787",
   "metadata": {},
   "outputs": [],
   "source": [
    "STU_NAME[1]='VIM'"
   ]
  },
  {
   "cell_type": "code",
   "execution_count": null,
   "id": "c093c355",
   "metadata": {},
   "outputs": [],
   "source": [
    "# TUPLE CAN NOT BE UPDATED"
   ]
  },
  {
   "cell_type": "code",
   "execution_count": null,
   "id": "8b104ffb",
   "metadata": {},
   "outputs": [],
   "source": [
    "STU_NAME=('RAVI','ARJUN','BISHNUPRIYA','AMZAD','ANWAR','DEV')"
   ]
  },
  {
   "cell_type": "code",
   "execution_count": null,
   "id": "4fb0b07d",
   "metadata": {},
   "outputs": [],
   "source": [
    "del STU_NAME[1]"
   ]
  },
  {
   "cell_type": "code",
   "execution_count": null,
   "id": "ebecb951",
   "metadata": {},
   "outputs": [],
   "source": [
    "# TUPLE CAN NOT BE DELETED"
   ]
  },
  {
   "cell_type": "code",
   "execution_count": null,
   "id": "7ebbe596",
   "metadata": {},
   "outputs": [],
   "source": [
    "STU_NAME=('RAVI','ARJUN','BISHNUPRIYA','AMZAD','ANWAR','DEV')\n",
    "STU_EDUCATION=('MBA','BCA','BBA','MTECH','BPHARMA','BA')\n",
    "\n",
    "STU_FULL_DETAILS=STU_NAME+STU_EDUCATION"
   ]
  },
  {
   "cell_type": "code",
   "execution_count": null,
   "id": "2fa30a8f",
   "metadata": {},
   "outputs": [],
   "source": [
    "STU_FULL_DETAILS"
   ]
  },
  {
   "cell_type": "code",
   "execution_count": null,
   "id": "b6083864",
   "metadata": {},
   "outputs": [],
   "source": [
    "# TUPLE CAN BE APPENDED"
   ]
  },
  {
   "cell_type": "markdown",
   "id": "273d0b77",
   "metadata": {},
   "source": [
    "# SET TO BE UPDATED , DELETED AND APPENDED"
   ]
  },
  {
   "cell_type": "code",
   "execution_count": null,
   "id": "9e6140cb",
   "metadata": {},
   "outputs": [],
   "source": [
    "STU_NAME={'RAVI','ARJUN','BISHNUPRIYA','AMZAD','ANWAR','DEV'}\n",
    "STU_NAME"
   ]
  },
  {
   "cell_type": "code",
   "execution_count": null,
   "id": "dda59745",
   "metadata": {},
   "outputs": [],
   "source": [
    "STU_NAME[1]"
   ]
  },
  {
   "cell_type": "code",
   "execution_count": null,
   "id": "623399a0",
   "metadata": {},
   "outputs": [],
   "source": [
    "STU_NAME[1]='VIM'"
   ]
  },
  {
   "cell_type": "code",
   "execution_count": null,
   "id": "b6733d93",
   "metadata": {},
   "outputs": [],
   "source": [
    "STU_NAME={'RAVI','ARJUN','BISHNUPRIYA','AMZAD','ANWAR','DEV'}\n",
    "STU_EDUCATION={'MBA','BCA','BBA','MTECH','BPHARMA','BA'}\n",
    "\n",
    "STU_FULL_DETAILS=STU_NAME+STU_EDUCATION"
   ]
  },
  {
   "cell_type": "code",
   "execution_count": null,
   "id": "f7f70bef",
   "metadata": {},
   "outputs": [],
   "source": [
    "# SET VALUES CAN NOT BE UPDATED, DELETED AND APPENDED"
   ]
  },
  {
   "cell_type": "markdown",
   "id": "e65e538a",
   "metadata": {},
   "source": [
    "# DICTIONARY TO BE UPDATED , DELETED AND APPENDED"
   ]
  },
  {
   "cell_type": "code",
   "execution_count": null,
   "id": "8e34776b",
   "metadata": {},
   "outputs": [],
   "source": [
    "STU_NAME={'RAVI':'MBA','ARJUN':'BTECH','BISHNUPRIYA':'BCA','AMZAD':'MTECH','ANWAR':'BE','DEV':'MBA'}\n",
    "\n",
    "STU_NAME"
   ]
  },
  {
   "cell_type": "code",
   "execution_count": null,
   "id": "16ff3a4d",
   "metadata": {},
   "outputs": [],
   "source": [
    "# IN DICTIONARY WE GET VALUES IN 2 PARTS\n",
    "# 1. KEYS\n",
    "# 2. VALUES"
   ]
  },
  {
   "cell_type": "code",
   "execution_count": null,
   "id": "48272476",
   "metadata": {},
   "outputs": [],
   "source": [
    "STU_NAME.keys()"
   ]
  },
  {
   "cell_type": "code",
   "execution_count": null,
   "id": "ec5834e3",
   "metadata": {},
   "outputs": [],
   "source": [
    "STU_NAME.values()"
   ]
  },
  {
   "cell_type": "code",
   "execution_count": null,
   "id": "e6efa867",
   "metadata": {},
   "outputs": [],
   "source": [
    "STU_NAME['RAVI']"
   ]
  },
  {
   "cell_type": "code",
   "execution_count": null,
   "id": "3e6457b7",
   "metadata": {},
   "outputs": [],
   "source": [
    "STU_NAME['BISHNUPRIYA']"
   ]
  },
  {
   "cell_type": "code",
   "execution_count": null,
   "id": "f79bdd16",
   "metadata": {},
   "outputs": [],
   "source": [
    "STU_NAME['RAVI']='MCA'\n"
   ]
  },
  {
   "cell_type": "code",
   "execution_count": null,
   "id": "2922e8bb",
   "metadata": {},
   "outputs": [],
   "source": [
    "STU_NAME"
   ]
  },
  {
   "cell_type": "code",
   "execution_count": null,
   "id": "5eb0ebb4",
   "metadata": {},
   "outputs": [],
   "source": [
    "# DICTIONARY VALUE CAN BE UPDATED"
   ]
  },
  {
   "cell_type": "code",
   "execution_count": null,
   "id": "b1d9ed82",
   "metadata": {},
   "outputs": [],
   "source": [
    "del STU_NAME['RAVI']"
   ]
  },
  {
   "cell_type": "code",
   "execution_count": null,
   "id": "bcc95ac1",
   "metadata": {},
   "outputs": [],
   "source": [
    "STU_NAME"
   ]
  },
  {
   "cell_type": "code",
   "execution_count": null,
   "id": "39510be4",
   "metadata": {},
   "outputs": [],
   "source": [
    "# DICTIONARY VALUE CAN BE DELETED"
   ]
  },
  {
   "cell_type": "code",
   "execution_count": null,
   "id": "a87b762d",
   "metadata": {},
   "outputs": [],
   "source": [
    "STU_AGE={'A':30,'B':20,'C':34,'D':39,'E':28,'F':27}\n",
    "STU_EDUCATION={'A':'BBA','B':'BCA','C':'MBA','D':'MSC','E':'BCA','F':'MTECH'}\n",
    "\n",
    "# print(STU_AGE)\n",
    "print(STU_EDUCATION)"
   ]
  },
  {
   "cell_type": "code",
   "execution_count": null,
   "id": "8ed72fa9",
   "metadata": {},
   "outputs": [],
   "source": [
    "STU_DETAILS=STU_AGE+STU_EDUCATION\n",
    "\n",
    "STU_DETAILS"
   ]
  },
  {
   "cell_type": "code",
   "execution_count": null,
   "id": "7785fd5e",
   "metadata": {},
   "outputs": [],
   "source": [
    "# DICTIONARY VALUE CAN NOT BE APPENDED"
   ]
  },
  {
   "cell_type": "markdown",
   "id": "bc3d0056",
   "metadata": {},
   "source": [
    "# TEST"
   ]
  },
  {
   "cell_type": "code",
   "execution_count": null,
   "id": "59f1af81",
   "metadata": {},
   "outputs": [],
   "source": [
    "# VARIABLES THAT CAN NOT BE APPENDED?\n",
    "# ANS- SET AND DICTINARY\n",
    "\n",
    "# VARIABLES THAT CAN BE APPENDED?\n",
    "# ANS= LIST AND TUPLE\n",
    "\n",
    "# VARIABLES THAT CAN BE UPDATED AND DELETED?\n",
    "# ANS- LIST AND DICTIONARY"
   ]
  },
  {
   "cell_type": "markdown",
   "id": "7110dadc",
   "metadata": {},
   "source": [
    "# HOW TO CREATE TEMPORARY TABLE IN PYTHON"
   ]
  },
  {
   "cell_type": "code",
   "execution_count": null,
   "id": "b128bb4a",
   "metadata": {},
   "outputs": [],
   "source": [
    "import pandas as pd\n",
    "\n",
    "STU_ENQ=pd.DataFrame ({'STU_ID':['S1','S2','S3','S4','S5','S6'],\n",
    "                      'STU_NAME':['RAVI', 'ARJUN', 'BISHNUPRIYA', 'AMZAD', 'ANWAR', 'DEV'],\n",
    "                      'AGE':[23,26,25,24,27,29],\n",
    "                      'EDUCATION':['MBA','MCA','BTECH','BSC','BCA','BCOM'],\n",
    "                      'DATE_OF_ENQ':['01/01/2022','11/01/2022','13/01/2022','24/01/2022','27/01/2022','29/01/2022'],\n",
    "                      'COURSE':['MPIDS','DAS','MPIDS','ADA','MPIDS','MPIDS']})\n"
   ]
  },
  {
   "cell_type": "code",
   "execution_count": null,
   "id": "473b4851",
   "metadata": {},
   "outputs": [],
   "source": [
    "STU_ENQ"
   ]
  },
  {
   "cell_type": "code",
   "execution_count": null,
   "id": "4f7cd730",
   "metadata": {},
   "outputs": [],
   "source": [
    "print(STU_ENQ)"
   ]
  },
  {
   "cell_type": "code",
   "execution_count": null,
   "id": "38055f22",
   "metadata": {},
   "outputs": [],
   "source": [
    "STU_ENQ.shape"
   ]
  },
  {
   "cell_type": "code",
   "execution_count": null,
   "id": "c4917af9",
   "metadata": {},
   "outputs": [],
   "source": [
    "STU_ENQ.head(2)"
   ]
  },
  {
   "cell_type": "code",
   "execution_count": null,
   "id": "7a307579",
   "metadata": {},
   "outputs": [],
   "source": [
    "STU_ENQ.tail(2)"
   ]
  },
  {
   "cell_type": "code",
   "execution_count": null,
   "id": "0482e0d8",
   "metadata": {},
   "outputs": [],
   "source": [
    "STU_ENQ.info()"
   ]
  },
  {
   "cell_type": "code",
   "execution_count": null,
   "id": "a9eeefd2",
   "metadata": {},
   "outputs": [],
   "source": [
    "STU_ENQ.columns.values"
   ]
  },
  {
   "cell_type": "code",
   "execution_count": null,
   "id": "6e3f66c7",
   "metadata": {},
   "outputs": [],
   "source": [
    "STU_ENQ.dtypes"
   ]
  },
  {
   "cell_type": "markdown",
   "id": "695758b1",
   "metadata": {},
   "source": [
    "# HOW TO CRAETE A TABLE AND INSERTING VALUE TO TEH TABLE"
   ]
  },
  {
   "cell_type": "code",
   "execution_count": null,
   "id": "3c84b86d",
   "metadata": {},
   "outputs": [],
   "source": [
    "import pandas as pd\n",
    "STU_ALL_ENQ=['STU_ID','STU_NAME','AGE','GENDER','EDUCATION','YOE','DOE','COURSE']\n",
    "STU_ALL_ENQ"
   ]
  },
  {
   "cell_type": "code",
   "execution_count": null,
   "id": "54fe32f2",
   "metadata": {},
   "outputs": [],
   "source": [
    "STU_ALL_ENQ_FULL=pd.DataFrame(columns=STU_ALL_ENQ)\n",
    "STU_ALL_ENQ_FULL"
   ]
  },
  {
   "cell_type": "code",
   "execution_count": null,
   "id": "f4b1d6e0",
   "metadata": {},
   "outputs": [],
   "source": [
    "LIST_OF_VALUES=[pd.Series(['S1','NARENDRA',33,'MALE','BTECH',4,'01-01-2020','DATA SCIENCE'],index=STU_ALL_ENQ_FULL.columns),\n",
    "                 pd.Series(['S2','CHHABA',24,'MALE','BTECH',2,'02-01-2020','DATA SCIENCE'],index=STU_ALL_ENQ_FULL.columns),\n",
    "                 pd.Series(['S3','NARI',27,'FEMALE','BTECH',6,'04-01-2020','DATA ANALYTICS'],index=STU_ALL_ENQ_FULL.columns),\n",
    "                  pd.Series(['S4','PAPPU',32,'MALE','BTECH',4,'07-01-2020','DATA SCIENCE'],index=STU_ALL_ENQ_FULL.columns),\n",
    "                  pd.Series(['S5','PRACHI',30,'FEMALE','BTECH',4,'07-03-2020','DATA SCIENCE'],index=STU_ALL_ENQ_FULL.columns)]\n",
    "STU_ALL_ENQ_FULL = STU_ALL_ENQ_FULL.append(LIST_OF_VALUES, ignore_index=False)\n"
   ]
  },
  {
   "cell_type": "code",
   "execution_count": null,
   "id": "222c8454",
   "metadata": {},
   "outputs": [],
   "source": [
    "STU_ALL_ENQ_FULL"
   ]
  },
  {
   "cell_type": "markdown",
   "id": "2f59bceb",
   "metadata": {},
   "source": [
    "# HOW TO ADD AND DROP COLUMNS TO A TABLE"
   ]
  },
  {
   "cell_type": "code",
   "execution_count": null,
   "id": "bcbadb11",
   "metadata": {},
   "outputs": [],
   "source": [
    "STU_ALL_ENQ_FULL"
   ]
  },
  {
   "cell_type": "code",
   "execution_count": null,
   "id": "49dcd4c6",
   "metadata": {},
   "outputs": [],
   "source": [
    "# TO ADD A COLUMN\n",
    "\n",
    "import pandas as pd\n",
    "import numpy as np\n",
    "\n",
    "STU_ALL_ENQ_FULL['INSTUTUTE']=np.nan\n",
    "\n",
    "STU_ALL_ENQ_FULL"
   ]
  },
  {
   "cell_type": "code",
   "execution_count": null,
   "id": "89115b0e",
   "metadata": {},
   "outputs": [],
   "source": [
    "# TO DROP A COLUMN\n",
    "\n",
    "import pandas as pd\n",
    "import numpy as np\n",
    "\n",
    "STU_ALL_ENQ_FULL_V1=STU_ALL_ENQ_FULL.drop(['INSTUTUTE'],axis=1)\n",
    "\n",
    "STU_ALL_ENQ_FULL_V1"
   ]
  },
  {
   "cell_type": "markdown",
   "id": "899985ac",
   "metadata": {},
   "source": [
    "# TO TRUNCATE A TABLE and DELETING A TABLE"
   ]
  },
  {
   "cell_type": "code",
   "execution_count": null,
   "id": "5a33dddb",
   "metadata": {},
   "outputs": [],
   "source": [
    "STU_ALL_ENQ_FULL_V1.iloc[0:0]"
   ]
  },
  {
   "cell_type": "code",
   "execution_count": null,
   "id": "7d99d869",
   "metadata": {},
   "outputs": [],
   "source": [
    "STU_ALL_ENQ_FULL_V2=STU_ALL_ENQ_FULL_V1.iloc[0:0]\n",
    "\n",
    "STU_ALL_ENQ_FULL_V2"
   ]
  },
  {
   "cell_type": "code",
   "execution_count": null,
   "id": "6455e015",
   "metadata": {},
   "outputs": [],
   "source": [
    "del STU_ALL_ENQ_FULL_V2"
   ]
  },
  {
   "cell_type": "code",
   "execution_count": null,
   "id": "6df26c71",
   "metadata": {},
   "outputs": [],
   "source": [
    "STU_ALL_ENQ_FULL_V2"
   ]
  },
  {
   "cell_type": "markdown",
   "id": "8f0c83da",
   "metadata": {},
   "source": [
    "# DATA IMPORTING AND EXPORTING FROM CSV,TXT AND EXCEL FILE"
   ]
  },
  {
   "cell_type": "code",
   "execution_count": null,
   "id": "75bc5894",
   "metadata": {},
   "outputs": [],
   "source": [
    "# IMPORTING DATA FROM AN EXCEL FILE\n",
    "\n",
    "import pandas as pd\n",
    "med_2022=pd.read_excel(r'C:\\Users\\Debendra\\BATCH 202209\\SESSION-1\\A2.RAW_DATA\\MED_STORE_2022.xlsx',sheet_name='MED_AUS_DATA')\n",
    "med_2022"
   ]
  },
  {
   "cell_type": "code",
   "execution_count": null,
   "id": "277bac0a",
   "metadata": {},
   "outputs": [],
   "source": [
    "# EXPORTING DATA TO AN EXCEL FILE"
   ]
  },
  {
   "cell_type": "code",
   "execution_count": null,
   "id": "a75c8726",
   "metadata": {},
   "outputs": [],
   "source": [
    "import pandas as pd\n",
    "\n",
    "med_2022.to_excel(r'C:\\Users\\Debendra\\BATCH 202209\\SESSION-1\\A4.OUTPUT\\med_export_2022.xlsx',sheet_name='med_export')\n",
    "\n"
   ]
  },
  {
   "cell_type": "code",
   "execution_count": null,
   "id": "12092934",
   "metadata": {},
   "outputs": [],
   "source": [
    "# IMPORTING AND EXPORTING DATA FROM TXT FILE"
   ]
  },
  {
   "cell_type": "code",
   "execution_count": null,
   "id": "d01f4f4d",
   "metadata": {},
   "outputs": [],
   "source": [
    "import pandas as pd\n",
    "med_2022=pd.read_csv(r'C:\\Users\\Debendra\\BATCH 202209\\SESSION-1\\A2.RAW_DATA\\MED_STORE_2022.txt',sep=',')\n",
    "\n",
    "med_2022"
   ]
  },
  {
   "cell_type": "code",
   "execution_count": null,
   "id": "1a6ae626",
   "metadata": {},
   "outputs": [],
   "source": [
    "# TO EXPORT DATA TO A TEXT FILE"
   ]
  },
  {
   "cell_type": "code",
   "execution_count": null,
   "id": "8a21b93d",
   "metadata": {},
   "outputs": [],
   "source": [
    "import pandas as pd\n",
    "\n",
    "med_2022.to_csv(r'C:\\Users\\Debendra\\BATCH 202209\\SESSION-1\\A4.OUTPUT\\med_export_2022.txt',sep='|')\n"
   ]
  },
  {
   "cell_type": "code",
   "execution_count": null,
   "id": "c1e5e379",
   "metadata": {},
   "outputs": [],
   "source": [
    "# IMPORTING AND EXPORTING DATA CSV FILE"
   ]
  },
  {
   "cell_type": "code",
   "execution_count": null,
   "id": "8ea78eaa",
   "metadata": {},
   "outputs": [],
   "source": [
    "import pandas as pd\n",
    "med_2022=pd.read_csv(r'C:\\Users\\Debendra\\BATCH 202209\\SESSION-1\\A2.RAW_DATA\\MED_STORE_2022.CSV')\n",
    "\n",
    "med_2022"
   ]
  },
  {
   "cell_type": "code",
   "execution_count": null,
   "id": "424a2c2f",
   "metadata": {},
   "outputs": [],
   "source": [
    "# TO EXPORT DATA TO A CSV FILE"
   ]
  },
  {
   "cell_type": "code",
   "execution_count": null,
   "id": "74a0ce83",
   "metadata": {},
   "outputs": [],
   "source": [
    "import pandas as pd\n",
    "\n",
    "med_2022.to_csv(r'C:\\Users\\Debendra\\BATCH 202209\\SESSION-1\\A4.OUTPUT\\med_export_2022.CSV')"
   ]
  },
  {
   "cell_type": "markdown",
   "id": "fe162161",
   "metadata": {},
   "source": [
    "# DATA READING FROM SQL SERVER DATABASE"
   ]
  },
  {
   "cell_type": "code",
   "execution_count": null,
   "id": "7e20be9f",
   "metadata": {},
   "outputs": [],
   "source": [
    "import pandas as pd\n",
    "import pyodbc\n",
    "from sqlalchemy import create_engine, event\n",
    "from sqlalchemy.engine.url import URL\n",
    "\n",
    "conn_str = (\"Driver={SQL Server Native Client 11.0};\"\n",
    "            \"Server=.;\"\n",
    "            \"Database=BATCH_202209;\"\n",
    "            \"Trusted_Connection=yes;\")\n",
    "\n",
    "conn_url = URL.create(\"mssql+pyodbc\", query={\"odbc_connect\": conn_str}) # Creating url\n",
    "\n",
    "engine = create_engine(conn_url) # Creating Engine\n",
    "\n",
    "# sql_query=\"SELECT * from information_schema.columns\" # Writing SQL Query\n",
    "\n",
    "MED_2022_SQL = pd.read_sql_table('MED_2022', engine)\n",
    "\n",
    "MED_2022_SQL.head(100)"
   ]
  },
  {
   "cell_type": "code",
   "execution_count": null,
   "id": "7da9d418",
   "metadata": {},
   "outputs": [],
   "source": [
    "# HOW TO READ DATA FROM SQL DATABASES\n",
    "\n",
    "##### FOR IMPORTING DATA FROM SQL DATABASE\n",
    "import pandas as pd\n",
    "import pyodbc # IMPORT PYODBC TO GET CONNECTED WITH DATABASE\n",
    "\n",
    "cnxn_str = (\"Driver={SQL Server Native Client 11.0};\"# WRITE DRIVER NAME\n",
    "            \"Server=.;\" # WRITE SERVER NAME, HERE LOCAL SERVER IS GIVEN\n",
    "            \"Database=BATCH_202209;\" # DATABASE NAME\n",
    "            \"Trusted_Connection=yes;\") \n",
    "cnxn = pyodbc.connect(cnxn_str) #CONNECTION VARIABLE\n",
    "\n",
    "sql_query=\"SELECT DISTINCT [Company] FROM MED_2022\"  #QUERY VARIABLE\n",
    "\n",
    "unq_company = pd.read_sql(sql_query, cnxn) #CODE FOR READING SQL TABLE\n",
    "unq_company"
   ]
  },
  {
   "cell_type": "code",
   "execution_count": 1,
   "id": "b171b933",
   "metadata": {},
   "outputs": [
    {
     "name": "stderr",
     "output_type": "stream",
     "text": [
      "C:\\Users\\Debendra\\anaconda3\\lib\\site-packages\\pandas\\io\\sql.py:761: UserWarning: pandas only support SQLAlchemy connectable(engine/connection) ordatabase string URI or sqlite3 DBAPI2 connectionother DBAPI2 objects are not tested, please consider using SQLAlchemy\n",
      "  warnings.warn(\n"
     ]
    },
    {
     "data": {
      "text/html": [
       "<div>\n",
       "<style scoped>\n",
       "    .dataframe tbody tr th:only-of-type {\n",
       "        vertical-align: middle;\n",
       "    }\n",
       "\n",
       "    .dataframe tbody tr th {\n",
       "        vertical-align: top;\n",
       "    }\n",
       "\n",
       "    .dataframe thead th {\n",
       "        text-align: right;\n",
       "    }\n",
       "</style>\n",
       "<table border=\"1\" class=\"dataframe\">\n",
       "  <thead>\n",
       "    <tr style=\"text-align: right;\">\n",
       "      <th></th>\n",
       "      <th>CUSTOMER_ID</th>\n",
       "      <th>Company</th>\n",
       "      <th>GENDER</th>\n",
       "      <th>Age</th>\n",
       "      <th>STATE_CODE</th>\n",
       "      <th>Spent_amount</th>\n",
       "    </tr>\n",
       "  </thead>\n",
       "  <tbody>\n",
       "    <tr>\n",
       "      <th>0</th>\n",
       "      <td>1.000033e+09</td>\n",
       "      <td>MED +</td>\n",
       "      <td>Female</td>\n",
       "      <td>29.0</td>\n",
       "      <td>QLD</td>\n",
       "      <td>69.37</td>\n",
       "    </tr>\n",
       "    <tr>\n",
       "      <th>1</th>\n",
       "      <td>1.000033e+09</td>\n",
       "      <td>DR.REDDYS</td>\n",
       "      <td>Female</td>\n",
       "      <td>39.0</td>\n",
       "      <td>WA</td>\n",
       "      <td>498.50</td>\n",
       "    </tr>\n",
       "    <tr>\n",
       "      <th>2</th>\n",
       "      <td>1.000033e+09</td>\n",
       "      <td>RELEGARE</td>\n",
       "      <td>Female</td>\n",
       "      <td>54.0</td>\n",
       "      <td>NSW</td>\n",
       "      <td>1.56</td>\n",
       "    </tr>\n",
       "    <tr>\n",
       "      <th>3</th>\n",
       "      <td>1.000033e+09</td>\n",
       "      <td>GSK</td>\n",
       "      <td>Male</td>\n",
       "      <td>35.0</td>\n",
       "      <td>VIC</td>\n",
       "      <td>160.98</td>\n",
       "    </tr>\n",
       "    <tr>\n",
       "      <th>4</th>\n",
       "      <td>1.000033e+09</td>\n",
       "      <td>GSK</td>\n",
       "      <td>Male</td>\n",
       "      <td>34.0</td>\n",
       "      <td>VIC</td>\n",
       "      <td>289.10</td>\n",
       "    </tr>\n",
       "    <tr>\n",
       "      <th>...</th>\n",
       "      <td>...</td>\n",
       "      <td>...</td>\n",
       "      <td>...</td>\n",
       "      <td>...</td>\n",
       "      <td>...</td>\n",
       "      <td>...</td>\n",
       "    </tr>\n",
       "    <tr>\n",
       "      <th>5107</th>\n",
       "      <td>1.000038e+09</td>\n",
       "      <td>RELEGARE</td>\n",
       "      <td>Male</td>\n",
       "      <td>77.0</td>\n",
       "      <td>WA</td>\n",
       "      <td>198.36</td>\n",
       "    </tr>\n",
       "    <tr>\n",
       "      <th>5108</th>\n",
       "      <td>1.000038e+09</td>\n",
       "      <td>APPOLO</td>\n",
       "      <td>Female</td>\n",
       "      <td>57.0</td>\n",
       "      <td>WA</td>\n",
       "      <td>28.09</td>\n",
       "    </tr>\n",
       "    <tr>\n",
       "      <th>5109</th>\n",
       "      <td>1.000038e+09</td>\n",
       "      <td>GSK</td>\n",
       "      <td>Female</td>\n",
       "      <td>31.0</td>\n",
       "      <td>WA</td>\n",
       "      <td>852.98</td>\n",
       "    </tr>\n",
       "    <tr>\n",
       "      <th>5110</th>\n",
       "      <td>1.000038e+09</td>\n",
       "      <td>MED +</td>\n",
       "      <td>Female</td>\n",
       "      <td>53.0</td>\n",
       "      <td>WA</td>\n",
       "      <td>228.55</td>\n",
       "    </tr>\n",
       "    <tr>\n",
       "      <th>5111</th>\n",
       "      <td>1.000038e+09</td>\n",
       "      <td>RANBAXY</td>\n",
       "      <td>Female</td>\n",
       "      <td>41.0</td>\n",
       "      <td>WA</td>\n",
       "      <td>26.35</td>\n",
       "    </tr>\n",
       "  </tbody>\n",
       "</table>\n",
       "<p>5112 rows × 6 columns</p>\n",
       "</div>"
      ],
      "text/plain": [
       "       CUSTOMER_ID    Company  GENDER   Age STATE_CODE  Spent_amount\n",
       "0     1.000033e+09      MED +  Female  29.0        QLD         69.37\n",
       "1     1.000033e+09  DR.REDDYS  Female  39.0         WA        498.50\n",
       "2     1.000033e+09   RELEGARE  Female  54.0        NSW          1.56\n",
       "3     1.000033e+09        GSK    Male  35.0        VIC        160.98\n",
       "4     1.000033e+09        GSK    Male  34.0        VIC        289.10\n",
       "...            ...        ...     ...   ...        ...           ...\n",
       "5107  1.000038e+09   RELEGARE    Male  77.0         WA        198.36\n",
       "5108  1.000038e+09     APPOLO  Female  57.0         WA         28.09\n",
       "5109  1.000038e+09        GSK  Female  31.0         WA        852.98\n",
       "5110  1.000038e+09      MED +  Female  53.0         WA        228.55\n",
       "5111  1.000038e+09    RANBAXY  Female  41.0         WA         26.35\n",
       "\n",
       "[5112 rows x 6 columns]"
      ]
     },
     "execution_count": 1,
     "metadata": {},
     "output_type": "execute_result"
    }
   ],
   "source": [
    "# HOW TO READ DATA FROM SQL DATABASES\n",
    "\n",
    "##### FOR IMPORTING DATA FROM SQL DATABASE\n",
    "import pandas as pd\n",
    "import pyodbc # IMPORT PYODBC TO GET CONNECTED WITH DATABASE\n",
    "\n",
    "cnxn_str = (\"Driver={SQL Server Native Client 11.0};\"# WRITE DRIVER NAME\n",
    "            \"Server=.;\" # WRITE SERVER NAME, HERE LOCAL SERVER IS GIVEN\n",
    "            \"Database=BATCH_202209;\" # DATABASE NAME\n",
    "            \"Trusted_Connection=yes;\") \n",
    "cnxn = pyodbc.connect(cnxn_str) #CONNECTION VARIABLE\n",
    "\n",
    "sql_query=\"SELECT CUSTOMER_ID,Company,GENDER,Age,STATE_CODE,Spent_amount FROM MED_2022\"  #QUERY VARIABLE\n",
    "\n",
    "MED_SELECT = pd.read_sql(sql_query, cnxn) #CODE FOR READING SQL TABLE\n",
    "MED_SELECT"
   ]
  },
  {
   "cell_type": "code",
   "execution_count": 2,
   "id": "09a672a4",
   "metadata": {},
   "outputs": [
    {
     "data": {
      "text/plain": [
       "-1"
      ]
     },
     "execution_count": 2,
     "metadata": {},
     "output_type": "execute_result"
    }
   ],
   "source": [
    "# HOW TO WRITE DATA TO A SQL DATABASES\n",
    "\n",
    "import pandas as pd\n",
    "import pyodbc\n",
    "from sqlalchemy import create_engine, event\n",
    "from sqlalchemy.engine.url import URL\n",
    "\n",
    "conn_str = (\"Driver={SQL Server Native Client 11.0};\"\n",
    "            \"Server=.;\"\n",
    "            \"Database=BATCH_202209;\"\n",
    "            \"Trusted_Connection=yes;\")\n",
    "\n",
    "conn_url = URL.create(\"mssql+pyodbc\", query={\"odbc_connect\": conn_str}) # Creating url\n",
    "\n",
    "engine = create_engine(conn_url) # Creating Engine\n",
    "\n",
    "MED_SELECT.to_sql('MED_SELECT_python', engine) # Without Sql Query we have to write pd.read_sql_table('table_name',engine)"
   ]
  },
  {
   "cell_type": "markdown",
   "id": "5b9151f7",
   "metadata": {},
   "source": [
    "# HOW TO DESCRIBE A TABLE BY SHAPE,HEAD,TAIL,COLUMNS.VALUES,DTYPE,INFO(),DESCRIBE()"
   ]
  },
  {
   "cell_type": "code",
   "execution_count": null,
   "id": "ec5bfea0",
   "metadata": {},
   "outputs": [],
   "source": [
    "import pandas as pd\n",
    "\n",
    "med_2022=pd.read_excel(r'C:\\Users\\Debendra\\BATCH 202209\\SESSION-1\\A2.RAW_DATA\\MED_STORE_2022.xlsx',sheet_name='MED_AUS_DATA')\n",
    "\n",
    "med_2022\n"
   ]
  },
  {
   "cell_type": "markdown",
   "id": "ecb5219a",
   "metadata": {},
   "source": [
    "# HOW TO CREATE A NEW DATASET FROM AN EXISTING DATASET"
   ]
  },
  {
   "cell_type": "code",
   "execution_count": null,
   "id": "f7819a15",
   "metadata": {},
   "outputs": [],
   "source": [
    "med_2022_new=med_2022\n",
    "\n",
    "med_2022_new"
   ]
  },
  {
   "cell_type": "code",
   "execution_count": null,
   "id": "4d576614",
   "metadata": {},
   "outputs": [],
   "source": [
    "med_2022_new=med_2022.copy()\n",
    "\n",
    "med_2022_new"
   ]
  },
  {
   "cell_type": "code",
   "execution_count": null,
   "id": "53b590de",
   "metadata": {},
   "outputs": [],
   "source": [
    "# CREATING A NEW DATASET BY SELECTING VARIABLES\n",
    "\n",
    "med_2022_new=med_2022[['CUSTOMER_ID','Company','GENDER','Age','STATE_CODE','Spent amount']]\n",
    "\n",
    "med_2022_new"
   ]
  },
  {
   "cell_type": "code",
   "execution_count": null,
   "id": "5c2fff7c",
   "metadata": {},
   "outputs": [],
   "source": [
    "keep_var=['CUSTOMER_ID','Company','GENDER','Age','STATE_CODE','Spent amount']\n",
    "\n",
    "med_2022_new=med_2022[keep_var]\n",
    "\n",
    "med_2022_new"
   ]
  },
  {
   "cell_type": "code",
   "execution_count": null,
   "id": "2217e7fc",
   "metadata": {},
   "outputs": [],
   "source": [
    "# CREATING A NEW DATASET BY DROPPING VARIABLE\n",
    "\n",
    "drop_var=['Company','GENDER','Age','STATE_CODE','Spent amount']\n",
    "\n",
    "med_2022_new=med_2022.drop(drop_var,axis=1)\n",
    "\n",
    "med_2022_new\n",
    "\n"
   ]
  },
  {
   "cell_type": "markdown",
   "id": "4754740c",
   "metadata": {},
   "source": [
    "# HOW TO DESCRIBE YOUR DATASET"
   ]
  },
  {
   "cell_type": "code",
   "execution_count": null,
   "id": "1ad2d754",
   "metadata": {},
   "outputs": [],
   "source": [
    "med_2022"
   ]
  },
  {
   "cell_type": "code",
   "execution_count": null,
   "id": "54d5d337",
   "metadata": {},
   "outputs": [],
   "source": [
    "print(med_2022)"
   ]
  },
  {
   "cell_type": "code",
   "execution_count": null,
   "id": "0d522c0e",
   "metadata": {},
   "outputs": [],
   "source": [
    "med_2022.shape"
   ]
  },
  {
   "cell_type": "code",
   "execution_count": null,
   "id": "43df5aea",
   "metadata": {},
   "outputs": [],
   "source": [
    "med_2022.head(100)"
   ]
  },
  {
   "cell_type": "code",
   "execution_count": null,
   "id": "4334fe43",
   "metadata": {},
   "outputs": [],
   "source": [
    "med_2022.tail(100)"
   ]
  },
  {
   "cell_type": "code",
   "execution_count": null,
   "id": "e2bb201b",
   "metadata": {},
   "outputs": [],
   "source": [
    "med_2022[100:200]"
   ]
  },
  {
   "cell_type": "code",
   "execution_count": null,
   "id": "94156184",
   "metadata": {},
   "outputs": [],
   "source": [
    "med_2022.info()"
   ]
  },
  {
   "cell_type": "code",
   "execution_count": null,
   "id": "a66b3280",
   "metadata": {},
   "outputs": [],
   "source": [
    "med_2022.dtypes"
   ]
  },
  {
   "cell_type": "code",
   "execution_count": null,
   "id": "6c07340e",
   "metadata": {},
   "outputs": [],
   "source": [
    "med_2022.describe()"
   ]
  },
  {
   "cell_type": "code",
   "execution_count": null,
   "id": "9876db0f",
   "metadata": {},
   "outputs": [],
   "source": [
    "med_2022.columns.values"
   ]
  },
  {
   "cell_type": "code",
   "execution_count": null,
   "id": "dafe7e8b",
   "metadata": {},
   "outputs": [],
   "source": [
    "med_2022.isnull().sum()"
   ]
  },
  {
   "cell_type": "code",
   "execution_count": null,
   "id": "e82a2cb5",
   "metadata": {},
   "outputs": [],
   "source": [
    "med_2022.isnull().sum().sum()"
   ]
  },
  {
   "cell_type": "code",
   "execution_count": null,
   "id": "d5782180",
   "metadata": {},
   "outputs": [],
   "source": [
    "print(med_2022.isnull().sum().sum())"
   ]
  },
  {
   "cell_type": "code",
   "execution_count": null,
   "id": "25aea781",
   "metadata": {},
   "outputs": [],
   "source": []
  }
 ],
 "metadata": {
  "kernelspec": {
   "display_name": "Python 3 (ipykernel)",
   "language": "python",
   "name": "python3"
  },
  "language_info": {
   "codemirror_mode": {
    "name": "ipython",
    "version": 3
   },
   "file_extension": ".py",
   "mimetype": "text/x-python",
   "name": "python",
   "nbconvert_exporter": "python",
   "pygments_lexer": "ipython3",
   "version": "3.9.7"
  }
 },
 "nbformat": 4,
 "nbformat_minor": 5
}
